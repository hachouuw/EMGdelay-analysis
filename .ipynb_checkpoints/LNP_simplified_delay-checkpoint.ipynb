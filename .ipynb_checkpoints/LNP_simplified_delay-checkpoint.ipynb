{
 "cells": [
  {
   "cell_type": "code",
   "execution_count": 1,
   "metadata": {},
   "outputs": [],
   "source": [
    "import sys\n",
    "import os\n",
    "import glob\n",
    "import importlib\n",
    "from scipy.optimize import fmin\n",
    "import scipy\n",
    "import random\n",
    "#\n",
    "\n",
    "import numpy as np\n",
    "import pylab as plt\n",
    "import matplotlib\n",
    "import math as m\n",
    "from matplotlib import rc\n",
    "from scipy import signal, fft\n",
    "import sys\n",
    "from scipy.optimize import curve_fit\n",
    "from scipy.optimize import minimize\n",
    "sys.path.append('C:\\\\Users\\\\bookw\\\\Documents\\\\Research')\n",
    "from supportFile import findFFT,plotThingsEO,findFilename,geterr\n",
    "# from globalVars import primes,IX,primesE,primesO,IXE,IXO,freq,tempfreq,TEMPFREQ,s,M\n",
    "# from brokenaxes import brokenaxes\n",
    "import seaborn as sns\n",
    "sns.set_palette(\"deep\")\n",
    "import pandas as pd\n",
    "from scipy.stats import wilcoxon, ttest_rel, friedmanchisquare, shapiro\n",
    "import pickle as pickle\n",
    "\n",
    "font = {'family' : 'DejaVu Sans',\n",
    "        'weight' : 'bold',\n",
    "        'size'   : 22}\n",
    "\n",
    "matplotlib.rc('font', **font)\n",
    "\n",
    "\n",
    "takeAvgBA = True\n",
    "\n",
    "    \n",
    "help = \"\"\"\n",
    "usage:\n",
    "  analysis subject protocol [formats]\n",
    "\n",
    "add filename formats to save files in those formats:\n",
    "  visualization subject protocol png,mp4\n",
    "\"\"\"\n",
    "# importing protocol (su17v3)\n",
    "# sys.path.append('\"C:\\\\Users\\\\bookw\\\\Documents\\\\Research\\\\EMG data')\n",
    "# import su18CP as proto"
   ]
  },
  {
   "cell_type": "code",
   "execution_count": 3,
   "metadata": {},
   "outputs": [
    {
     "data": {
      "text/plain": [
       "array([0.1 , 0.15, 0.25, 0.35, 0.55, 0.65, 0.85, 0.95])"
      ]
     },
     "execution_count": 3,
     "metadata": {},
     "output_type": "execute_result"
    }
   ],
   "source": [
    "# w = np.arange(0,1200)/40\n",
    "# plt.plot(w,np.abs(REFS),label='R')\n",
    "# plt.plot(w,np.abs(DISTS),label='D')\n",
    "# plt.plot(w,np.abs(OUTS),label='Y')\n",
    "# plt.legend()\n",
    "# plt.xlim(0,1);\n",
    "\n",
    "freqs = [4,6,10,14,22,26,34,38]\n",
    "even = freqs[::2]\n",
    "odd = freqs[1::2]\n",
    "\n",
    "M1 = lambda s : 1/s\n",
    "M2 = lambda s : 1/(s**2 + s)\n",
    "\n",
    "N = 2400; fs = 60\n",
    "w_all = np.fft.fftfreq(N, 1./ fs)\n",
    "w_all[freqs]"
   ]
  },
  {
   "cell_type": "code",
   "execution_count": 4,
   "metadata": {},
   "outputs": [],
   "source": [
    "# B = -1/M(1.j*2*np.pi*w_all[freqs]) * emg_fo / (1 + emg_fo)\n",
    "\n",
    "def getB(key,order,data):\n",
    "    if (order == 1):\n",
    "        weight = -1/M1(1.j*2*np.pi*w_all[freqs])\n",
    "    else:\n",
    "        weight = -1/M2(1.j*2*np.pi*w_all[freqs])\n",
    "    return weight * data[key] / (1 + data[key])\n",
    "\n",
    "def saving(data,file_name,order):  \n",
    "    b_ = np.zeros((11,8),dtype=complex)\n",
    "    for idx,key in enumerate(keys):\n",
    "        b_[idx] = getB(key,order,data)\n",
    "    with open(file_name,'wb') as handle:\n",
    "        pickle.dump(b_,handle,protocol=pickle.HIGHEST_PROTOCOL)"
   ]
  },
  {
   "cell_type": "code",
   "execution_count": 5,
   "metadata": {},
   "outputs": [],
   "source": [
    "# a function for bootstrapping\n",
    "def bootstrap(data):\n",
    "           \n",
    "    # then run bootstrap analysis\n",
    "    blank = []\n",
    "    for n in range(1000):\n",
    "        blank.append(np.mean(random.choices(data,k=len(data))))\n",
    "        \n",
    "    ran = scipy.stats.norm.interval(alpha=0.95, loc=np.mean(blank), scale=np.std(blank))\n",
    "        \n",
    "    return ran"
   ]
  },
  {
   "cell_type": "code",
   "execution_count": 6,
   "metadata": {},
   "outputs": [],
   "source": [
    "# xopt = minimize(lambda x: func(data,x), bounds)\n",
    "# cost fxn to minimize\n",
    "def myCost1(B,x):\n",
    "    s = 1.j*2*np.pi*w_all[freqs[:len(B)]]\n",
    "    X = B - x[0]*np.exp(-s*x[1])\n",
    "    return np.sum(np.abs(np.conj(X)*X))\n",
    "\n",
    "def myCost2(B,x):\n",
    "    s = 1.j*2*np.pi*w_all[freqs[:len(B)]]\n",
    "    X = B - x[0]*(s+1)*np.exp(-s*x[1])\n",
    "    return np.sum(np.abs(np.conj(X)*X))\n",
    "\n",
    "# estimate = [1, 0.1]\n",
    "# xopt = minimize(lambda x: myCost1(B1e[0],x),estimate,bounds=((0, None), (0, None)))\n",
    "# print(xopt.x)"
   ]
  },
  {
   "cell_type": "code",
   "execution_count": 7,
   "metadata": {},
   "outputs": [],
   "source": [
    "# optimization fxn\n",
    "def optim(B,order):\n",
    "    xopt = np.zeros((11,2))\n",
    "    estimate = [1, 0.1]\n",
    "    for i in range(11):\n",
    "        if (order == 1):\n",
    "            opt = minimize(lambda x: myCost1(B[i],x),estimate,bounds=((0, None), (0, None)))\n",
    "        else:\n",
    "            opt = minimize(lambda x: myCost2(B[i],x),estimate,bounds=((0, None), (0, None)))\n",
    "        xopt[i] = opt.x\n",
    "    return xopt"
   ]
  },
  {
   "cell_type": "code",
   "execution_count": 8,
   "metadata": {},
   "outputs": [],
   "source": [
    "# saving(emg_fo,'LNP_FB_1st_emg.pickle',1)\n",
    "# saving(man_fo,'LNP_FB_1st_man.pickle',1)\n",
    "# saving(emg_so,'LNP_FB_2nd_emg.pickle',2)\n",
    "# saving(man_so,'LNP_FB_2nd_man.pickle',2)\n",
    "\n",
    "f = open(\"LNP_FB_1st_emg.pickle\",\"rb\")\n",
    "B1e = pickle.load(f,encoding='latin1')\n",
    "f.close()\n",
    "\n",
    "f = open(\"LNP_FB_1st_man.pickle\",\"rb\")\n",
    "B1m = pickle.load(f,encoding='latin1')\n",
    "f.close()\n",
    "\n",
    "f = open(\"LNP_FB_2nd_emg.pickle\",\"rb\")\n",
    "B2e = pickle.load(f,encoding='latin1')\n",
    "f.close()\n",
    "\n",
    "f = open(\"LNP_FB_2nd_man.pickle\",\"rb\")\n",
    "B2m = pickle.load(f,encoding='latin1')\n",
    "f.close()"
   ]
  },
  {
   "cell_type": "code",
   "execution_count": 9,
   "metadata": {},
   "outputs": [],
   "source": [
    "# get the optimal values for k, t\n",
    "emg1 = optim(B1e,1)\n",
    "man1 = optim(B1m,1)\n",
    "emg2 = optim(B2e,2)\n",
    "man2 = optim(B2m,2)"
   ]
  },
  {
   "cell_type": "code",
   "execution_count": 10,
   "metadata": {},
   "outputs": [],
   "source": [
    "# bootstrapped invervals for our optimal values\n",
    "\n",
    "\n",
    "# separate based on modality to make ttest easier\n",
    "es = np.zeros((4,2)) # k1, t1, k2, t2\n",
    "ms = np.zeros((4,2)) # k1, t1, k2, t2\n",
    "\n",
    "# 1st order\n",
    "es[0] = bootstrap(emg1[:,0])\n",
    "es[1] = bootstrap(emg1[:,1])\n",
    "ms[0] = bootstrap(man1[:,0])\n",
    "ms[1] = bootstrap(man1[:,1])\n",
    "\n",
    "#2nd order\n",
    "es[2] = bootstrap(emg2[:,0])\n",
    "es[3] = bootstrap(emg2[:,1])\n",
    "ms[2] = bootstrap(man2[:,0])\n",
    "ms[3] = bootstrap(man2[:,1])"
   ]
  },
  {
   "cell_type": "code",
   "execution_count": 11,
   "metadata": {},
   "outputs": [
    {
     "data": {
      "image/png": "[encoded data removed]",
      "text/plain": [
       "<Figure size 640x480 with 2 Axes>"
      ]
     },
     "metadata": {},
     "output_type": "display_data"
    }
   ],
   "source": [
    "fig, axs = plt.subplots(1,2)\n",
    "\n",
    "# axs[0,0].boxplot([emg1[:,0],emg2[:,0]])\n",
    "# axs[0,0].set_ylabel('emg k')\n",
    "# axs[0,1].boxplot([man1[:,0],man2[:,0]])\n",
    "# axs[0,1].set_ylabel('man k')\n",
    "axs[0].boxplot([emg1[:,1],emg2[:,1]])\n",
    "axs[0].set_ylabel('emg tau')\n",
    "axs[0].grid('on')\n",
    "axs[1].boxplot([man1[:,1],man2[:,1]])\n",
    "axs[1].set_ylabel('man tau')\n",
    "plt.grid('on')\n",
    "plt.tight_layout()\n",
    "\n",
    "# axs[1,0].boxplot(emg2[:,0])\n",
    "# axs[1,0].boxplot(man2[:,0])\n",
    "# axs[1,1].boxplot(emg2[:,1])\n",
    "# axs[1,1].boxplot(man2[:,1])\n",
    "plt.show();\n",
    "\n",
    "from scipy.stats import ttest_rel\n",
    "# ttest_rel(emg2[:,1],man2[:,1])"
   ]
  },
  {
   "cell_type": "code",
   "execution_count": 12,
   "metadata": {},
   "outputs": [],
   "source": [
    "ps = np.zeros(4)\n",
    "ts = np.zeros(4)\n",
    "for i in range(4):\n",
    "    a,b = scipy.stats.ttest_ind_from_stats(np.mean(es[i]),(es[i][1]-es[i][0])/3.92*np.sqrt(11),11,\n",
    "                                           np.mean(ms[i]),(ms[i][1]-ms[i][0])/3.92*np.sqrt(11),11)\n",
    "    ps[i] = b\n",
    "    ts[i] = a"
   ]
  },
  {
   "cell_type": "code",
   "execution_count": 13,
   "metadata": {},
   "outputs": [
    {
     "data": {
      "text/plain": [
       "array([0.02160124, 0.00341869, 0.12158876, 0.92911245])"
      ]
     },
     "execution_count": 13,
     "metadata": {},
     "output_type": "execute_result"
    }
   ],
   "source": [
    "ps"
   ]
  },
  {
   "cell_type": "code",
   "execution_count": 14,
   "metadata": {},
   "outputs": [
    {
     "data": {
      "text/plain": [
       "array([[2.68345343, 3.78127066],\n",
       "       [0.14200109, 0.26255312],\n",
       "       [2.88912025, 5.72492779],\n",
       "       [0.28228069, 0.35794546]])"
      ]
     },
     "execution_count": 14,
     "metadata": {},
     "output_type": "execute_result"
    }
   ],
   "source": [
    "es"
   ]
  },
  {
   "cell_type": "code",
   "execution_count": 15,
   "metadata": {},
   "outputs": [
    {
     "data": {
      "text/plain": [
       "array([[2.10705836, 2.74398982],\n",
       "       [0.28678275, 0.34320905],\n",
       "       [1.5965781 , 3.96807148],\n",
       "       [0.2353949 , 0.41373575]])"
      ]
     },
     "execution_count": 15,
     "metadata": {},
     "output_type": "execute_result"
    }
   ],
   "source": [
    "ms"
   ]
  }
 ],
 "metadata": {
  "kernelspec": {
   "display_name": "Python 3",
   "language": "python",
   "name": "python3"
  },
  "language_info": {
   "codemirror_mode": {
    "name": "ipython",
    "version": 3
   },
   "file_extension": ".py",
   "mimetype": "text/x-python",
   "name": "python",
   "nbconvert_exporter": "python",
   "pygments_lexer": "ipython3",
   "version": "3.7.3"
  }
 },
 "nbformat": 4,
 "nbformat_minor": 2
}
