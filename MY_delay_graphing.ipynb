{
 "cells": [
  {
   "cell_type": "code",
   "execution_count": 1,
   "metadata": {},
   "outputs": [],
   "source": [
    "import matplotlib.pyplot as plt\n",
    "import matplotlib\n",
    "import numpy as np\n",
    "import seaborn as sns\n",
    "import pandas as pd\n",
    "# produce matlab-style plots\n",
    "import matplotlib as mpl\n",
    "import pickle\n",
    "import os\n",
    "import matplotlib.ticker as mtick\n",
    "\n",
    "# increase font size on plots\n",
    "mpl.rc('font',**{'size':12})"
   ]
  },
  {
   "cell_type": "code",
   "execution_count": 2,
   "metadata": {},
   "outputs": [],
   "source": [
    "f = open(\"LNP_graphing_data.pickle\",\"rb\")\n",
    "# z_ints2,e_ints1,m_ints1 = pickle.load(f,encoding='latin1')\n",
    "e_ints1,m_ints1 = pickle.load(f,encoding='latin1')\n",
    "f.close()"
   ]
  },
  {
   "cell_type": "markdown",
   "metadata": {},
   "source": [
    "# plot delay and gain\n",
    "\n",
    "- e_ints1: emg data\n",
    "- m_ints1: manual data\n",
    "\n",
    "first axis is [visual gain, visual delay, feedback gain, feedback delay]\n",
    "\n",
    "second axis is [5th, 9th percentile]"
   ]
  },
  {
   "cell_type": "code",
   "execution_count": 5,
   "metadata": {},
   "outputs": [],
   "source": [
    "# rearrange data to ([manual and emg] x [5th, 50th, 95th percentile])\n",
    "vis_delay = np.vstack([[m_ints1[1][0],np.mean(m_ints1[1]),m_ints1[1][1]],\n",
    "                       [e_ints1[1][0],np.mean(e_ints1[1]),e_ints1[1][1]]])*1000\n",
    "vis_gain = np.vstack([[m_ints1[0][0],np.mean(m_ints1[0]),m_ints1[0][1]],\n",
    "                       [e_ints1[0][0],np.mean(e_ints1[0]),e_ints1[0][1]]]) \n",
    "fb_delay = np.vstack([[m_ints1[3][0],np.mean(m_ints1[3]),m_ints1[3][1]],\n",
    "                       [e_ints1[3][0],np.mean(e_ints1[3]),e_ints1[3][1]]])*1000\n",
    "fb_gain = np.vstack([[m_ints1[2][0],np.mean(m_ints1[2]),m_ints1[2][1]],\n",
    "                       [e_ints1[2][0],np.mean(e_ints1[2]),e_ints1[2][1]]]) "
   ]
  },
  {
   "cell_type": "code",
   "execution_count": 6,
   "metadata": {},
   "outputs": [
    {
     "data": {
      "text/plain": [
       "array([0.1939144 , 0.18955194, 0.33918069, 0.18409262])"
      ]
     },
     "execution_count": 6,
     "metadata": {},
     "output_type": "execute_result"
    }
   ],
   "source": [
    "np.hstack([vis_delay[:,1]-vis_delay[:,0],fb_delay[:,1]-fb_delay[:,0]])"
   ]
  },
  {
   "cell_type": "code",
   "execution_count": 8,
   "metadata": {},
   "outputs": [
    {
     "data": {
      "image/png": "[encoded data removed]",
      "text/plain": [
       "<Figure size 720x360 with 4 Axes>"
      ]
     },
     "metadata": {
      "needs_background": "light"
     },
     "output_type": "display_data"
    }
   ],
   "source": [
    "# PLOT DELAY\n",
    "CB_color_cycle = ['#377eb8', '#ff7f00', '#4daf4a',\n",
    "                  '#f781bf', '#a65628', '#984ea3',\n",
    "                  '#999999', '#e41a1c', '#dede00']\n",
    "markersize = 20\n",
    "titles=['visual delay','feedback delay','visual gain', 'feedback gain']\n",
    "yaxis = ['time (ms)','time (ms)','gain','gain']\n",
    "data = [vis_delay,fb_delay,vis_gain,fb_gain]\n",
    "xx = np.arange(1,3,1)\n",
    "# plt.errorbar(xx,np.hstack([vis_delay[:,1],fb_delay[:,1]]),\n",
    "#              np.hstack([vis_delay[:,1]-vis_delay[:,0],fb_delay[:,1]-fb_delay[:,0]]), \n",
    "#              linestyle='None', marker='^')\n",
    "fig,axs = plt.subplots(1,4,sharex=True,sharey=False,figsize=(10,5))\n",
    "plt.setp(axs, xticks=[1,2], xticklabels=['manual','EMG'])\n",
    "plt.xlim((0.5,2.5))\n",
    "# plot visual delay\n",
    "for ix,ax in enumerate(axs):\n",
    "    ax.errorbar(xx[0],data[ix][:,1][0],yerr=data[ix][:,1][0]-data[ix][:,0][0], \n",
    "                 fmt='o',markersize=markersize,linewidth=4,color=CB_color_cycle[6])\n",
    "    ax.errorbar(xx[1],data[ix][:,1][1],yerr=data[ix][:,1][1]-data[ix][:,0][1], \n",
    "                 fmt='o',markersize=markersize,linewidth=4,color=CB_color_cycle[5])\n",
    "    ax.set_title(titles[ix])\n",
    "#     if ix == 0 or ix == 2:\n",
    "    ax.set_ylabel(yaxis[ix])\n",
    "    ax.spines['right'].set_visible(False)\n",
    "    ax.spines['top'].set_visible(False)\n",
    "    \n",
    "# plot pvalue \n",
    "y1 = .25243*1000\n",
    "pos1 = 1\n",
    "pos2 = 2\n",
    "linewidth = 2\n",
    "axs[0].plot([pos1,pos1,pos2,pos2],[y1,y1+.03,y1+.03,y1],lw=1.5,c='k')\n",
    "# axs[0].plot([pos1,pos1,pos2,pos2],[y1,y1,y1,y1],lw=1.5,c='k')\n",
    "axs[0].text((pos1+pos2)*.5,y1+.03,r'$p=0.45$',ha='center',va='bottom',color='k')\n",
    "# axs[0].yaxis.set_major_formatter(mtick.FormatStrFormatter('%.4f'))\n",
    "\n",
    "\n",
    "y1 = .49*1000\n",
    "pos1 = 1\n",
    "pos2 = 2\n",
    "linewidth = 2\n",
    "dist = 0.01*1000\n",
    "axs[1].plot([pos1,pos1,pos2,pos2],[y1,y1+dist,y1+dist,y1-.2],lw=1.5,c='k')\n",
    "axs[1].text((pos1+pos2)*.5,y1+dist,r'$*p<0.001$',ha='center',va='bottom',color='k',weight='bold')\n",
    "# axs[1].yaxis.set_major_formatter(mtick.FormatStrFormatter('%.2f'))\n",
    "\n",
    "y1 = .93295\n",
    "pos1 = 1\n",
    "pos2 = 2\n",
    "linewidth = 2\n",
    "dist = 0.00003\n",
    "axs[2].plot([pos1,pos1,pos2,pos2],[y1,y1+dist,y1+dist,y1],lw=1.5,c='k')\n",
    "axs[2].text((pos1+pos2)*.5,y1+dist,r'$p=0.48$',ha='center',va='bottom',color='k')\n",
    "# axs[2].yaxis.set_major_formatter(mtick.FormatStrFormatter('%.4f'))\n",
    "\n",
    "\n",
    "y1 = 79.53\n",
    "pos1 = 1\n",
    "pos2 = 2\n",
    "linewidth = 2\n",
    "dist = 0.01\n",
    "axs[3].plot([pos1,pos1,pos2,pos2],[y1-0.0003,y1+dist,y1+dist,y1],lw=1.5,c='k')\n",
    "axs[3].text((pos1+pos2)*.5,y1+dist,r'$p=0.75$',ha='center',va='bottom',color='k')\n",
    "# axs[3].yaxis.set_major_formatter(mtick.FormatStrFormatter('%.1f'))\n",
    "\n",
    "\n",
    "plt.tight_layout()\n",
    "\n",
    "fname = 'EMGdelay_varsplot'\n",
    "if fname is not None:\n",
    "    fig = plt.gcf()\n",
    "if not(os.path.exists('pdf')): \n",
    "    os.mkdir('pdf')\n",
    "fig.savefig(os.path.join('pdf',fname+'.'+'pdf'),bbox_inches='tight',pad_inches=0)"
   ]
  },
  {
   "cell_type": "code",
   "execution_count": null,
   "metadata": {},
   "outputs": [],
   "source": []
  }
 ],
 "metadata": {
  "kernelspec": {
   "display_name": "Python 3",
   "language": "python",
   "name": "python3"
  },
  "language_info": {
   "codemirror_mode": {
    "name": "ipython",
    "version": 3
   },
   "file_extension": ".py",
   "mimetype": "text/x-python",
   "name": "python",
   "nbconvert_exporter": "python",
   "pygments_lexer": "ipython3",
   "version": "3.7.4"
  }
 },
 "nbformat": 4,
 "nbformat_minor": 4
}
