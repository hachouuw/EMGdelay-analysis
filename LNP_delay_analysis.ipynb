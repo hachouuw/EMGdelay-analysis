{
 "cells": [
  {
   "cell_type": "code",
   "execution_count": 2,
   "metadata": {},
   "outputs": [],
   "source": [
    "import sys\n",
    "import os\n",
    "import glob\n",
    "import importlib\n",
    "from scipy.optimize import fmin\n",
    "import scipy\n",
    "import random\n",
    "#\n",
    "\n",
    "import numpy as np\n",
    "import pylab as plt\n",
    "import matplotlib\n",
    "import math as m\n",
    "from matplotlib import rc\n",
    "from scipy import signal, fft\n",
    "import sys\n",
    "from scipy.optimize import curve_fit\n",
    "from scipy.optimize import minimize\n",
    "sys.path.append('C:\\\\Users\\\\bookw\\\\Documents\\\\Research')\n",
    "from supportFile import findFFT,plotThingsEO,findFilename,geterr\n",
    "# from globalVars import primes,IX,primesE,primesO,IXE,IXO,freq,tempfreq,TEMPFREQ,s,M\n",
    "# from brokenaxes import brokenaxes\n",
    "import seaborn as sns\n",
    "sns.set_palette(\"deep\")\n",
    "import pandas as pd\n",
    "from scipy.stats import wilcoxon, ttest_rel, friedmanchisquare, shapiro\n",
    "import pickle as pickle\n",
    "\n",
    "font = {'family' : 'DejaVu Sans',\n",
    "        'weight' : 'bold',\n",
    "        'size'   : 22}\n",
    "\n",
    "matplotlib.rc('font', **font)\n",
    "\n",
    "\n",
    "takeAvgBA = True\n",
    "\n",
    "    \n",
    "help = \"\"\"\n",
    "usage:\n",
    "  analysis subject protocol [formats]\n",
    "\n",
    "add filename formats to save files in those formats:\n",
    "  visualization subject protocol png,mp4\n",
    "\"\"\"\n",
    "# importing protocol (su17v3)\n",
    "sys.path.append('\"C:\\\\Users\\\\bookw\\\\Documents\\\\Research\\\\EMG data')\n",
    "# import su18CP as proto"
   ]
  },
  {
   "cell_type": "markdown",
   "metadata": {},
   "source": [
    "## analyze for HCPS_021-HCPS_028"
   ]
  },
  {
   "cell_type": "code",
   "execution_count": null,
   "metadata": {},
   "outputs": [],
   "source": [
    "# the FreqEMG / FreqManual have the freq domains\n",
    "# DISTS, REFS, etc -- fft(data)\n",
    "# need a way to store the data from each participant at each of the stimulated freqs\n",
    "# NOTE: this is just for manual (repeat for EMG, but keep separate)\n",
    "# create array, 10x8\n",
    "# then take average across participants\n",
    "# then build fxn to minimize\n",
    "# take fmin"
   ]
  },
  {
   "cell_type": "markdown",
   "metadata": {},
   "source": [
    "Minimizing: FD_error -- EMG error + manual error\n",
    "x0: "
   ]
  },
  {
   "cell_type": "code",
   "execution_count": 29,
   "metadata": {},
   "outputs": [],
   "source": [
    "M = lambda s : 1/(s**2 + s)\n",
    "w_all = np.fft.fftfreq(N, 1./ fs)\n",
    "\n",
    "# [k_v,t_v,k,t_d]\n",
    "def myfit(w_all,x0,x1,x2,x3):\n",
    "    num =  M(1.j*2*np.pi*w_all) * x2 / (1.j*2*np.pi*w_all) * x0 * np.exp(-1.j*2*np.pi*w_all*x1)\n",
    "    denom = 1 + M(1.j*2*np.pi*w_all) * x2 / (1.j*2*np.pi*w_all) * np.exp(-1.j*2*np.pi*w_all*x3)\n",
    "    return num / denom\n",
    "\n",
    "estimate = [0.38,0.190,2.5,0,0.40,0.145,2.5,0]\n",
    "N = 2400; fs = 60"
   ]
  },
  {
   "cell_type": "code",
   "execution_count": 17,
   "metadata": {},
   "outputs": [],
   "source": [
    "def angle_correction(array):\n",
    "    basket = np.zeros(array.shape,dtype='complex')\n",
    "    x,y = array.shape\n",
    "    for i in range(x):\n",
    "        for j in range(y):\n",
    "            basket[i][j] = np.exp(1.j*array[i][j])\n",
    "    theta_bar = np.angle(np.average(basket,axis=0))\n",
    "    for i in range(x):\n",
    "        for j in range(y):\n",
    "            basket[i][j] = np.mod(np.angle(basket[i][j]) - theta_bar[j] - np.pi, 2*np.pi) + theta_bar[j] - np.pi\n",
    "    return basket"
   ]
  },
  {
   "cell_type": "code",
   "execution_count": 31,
   "metadata": {},
   "outputs": [],
   "source": [
    "# MAN == CONTROL\n",
    "\n",
    "# [k_v,t_v,k,t_d] x 2\n",
    "def COST8(EMGavg,MANavg,est): # the OG\n",
    "    EMGfit = myfit(w_all[freqs],est[0],est[1],est[2],est[3])\n",
    "    MANfit = myfit(w_all[freqs],est[4],est[5],est[6],est[7])\n",
    "    cost = np.abs(EMGavg - EMGfit)**2 + np.abs(MANavg - MANfit)**2\n",
    "    return np.sum(cost)\n",
    "\n",
    "# the ks are equal\n",
    "def COST7(EMGavg,MANavg,est): \n",
    "    EMGfit = myfit(w_all[freqs],est[0],est[1],est[5],est[2])\n",
    "    MANfit = myfit(w_all[freqs],est[3],est[4],est[5],est[6])\n",
    "    cost = np.abs(EMGavg - EMGfit)**2 + np.abs(MANavg - MANfit)**2\n",
    "    return np.sum(cost)\n",
    "\n",
    "# ks are equal and EMG feedback delay = man visual delay\n",
    "def COST6(EMGavg,MANavg,est):\n",
    "    EMGfit = myfit(w_all[freqs],est[0],est[1],est[4],est[3])\n",
    "    MANfit = myfit(w_all[freqs],est[2],est[3],est[4],est[5])\n",
    "    cost = np.abs(EMGavg - EMGfit)**2 + np.abs(MANavg - MANfit)**2\n",
    "    return np.sum(cost)\n",
    "\n",
    "# [k_v,t_v,k,t_d]\n",
    "# ks are equal and EMG feedback delay = EMG visual delay\n",
    "# no feedback delay w manual\n",
    "def COST55(EMGavg,MANavg,est):\n",
    "    EMGfit = myfit(w_all[freqs],est[0],est[1],est[4],est[1])\n",
    "    MANfit = myfit(w_all[freqs],est[2],est[3],est[4],0)\n",
    "    cost = np.abs(EMGavg - EMGfit)**2 + np.abs(MANavg - MANfit)**2\n",
    "    return np.sum(cost)\n",
    "\n",
    "# [k_v,t_v,k,t_d]\n",
    "# 5 vars, lowest variance\n",
    "# no manual feedback delay\n",
    "# ks equal, EMG feedback delay = EMG visual delay\n",
    "def COST5(EMGavg,MANavg,est):\n",
    "    EMGfit = myfit(w_all[freqs],est[0],est[1],est[4],est[3])\n",
    "    MANfit = myfit(w_all[freqs],est[2],est[3],est[4],0)\n",
    "    cost = np.abs(EMGavg - EMGfit)**2 + np.abs(MANavg - MANfit)**2\n",
    "    return np.sum(cost)\n",
    "\n",
    "# [k_v,t_v,k,t_d]\n",
    "# hypothesis\n",
    "def COSTh(EMGavg,MANavg,est):\n",
    "    EMGfit = myfit(w_all[freqs],est[0],est[1],est[2],est[1])\n",
    "    MANfit = myfit(w_all[freqs],est[0],est[1],est[2],est[3])\n",
    "    cost = np.abs(EMGavg - EMGfit)**2 + np.abs(MANavg - MANfit)**2\n",
    "    return np.sum(cost) \n",
    "\n",
    "# [k_v,t_v,k,t_d]\n",
    "# best 4 (lowest error)\n",
    "def COST4(EMGavg,MANavg,est):\n",
    "    EMGfit = myfit(w_all[freqs],est[0],est[1],est[3],est[2])\n",
    "    MANfit = myfit(w_all[freqs],est[0],est[2],est[3],0)\n",
    "    cost = np.abs(EMGavg - EMGfit)**2 + np.abs(MANavg - MANfit)**2\n",
    "    return np.sum(cost)     \n",
    "\n",
    "# [k_v,t_v,k,t_d]\n",
    "# best 4 (lowest variance)\n",
    "def COST45(EMGavg,MANavg,est):\n",
    "    EMGfit = myfit(w_all[freqs],est[0],est[1],est[3],est[1])\n",
    "    MANfit = myfit(w_all[freqs],est[0],est[2],est[3],0)\n",
    "    cost = np.abs(EMGavg - EMGfit)**2 + np.abs(MANavg - MANfit)**2\n",
    "    return np.sum(cost)\n",
    "\n",
    "# [k_v,t_v,k,t_d]\n",
    "# best 3 (lowest variance)\n",
    "def COST3(EMGavg,MANavg,est):\n",
    "    EMGfit = myfit(w_all[freqs],est[0],est[1],est[2],est[1])\n",
    "    MANfit = myfit(w_all[freqs],est[0],est[1],est[2],0)\n",
    "    cost = np.abs(EMGavg - EMGfit)**2 + np.abs(MANavg - MANfit)**2\n",
    "    return np.sum(cost)\n",
    "\n",
    "\n",
    "\n",
    "# next up: pure delay\n",
    "# k, t_d both excluded\n",
    "# [k_v,t_v,k,t_d]\n",
    "def DEG1(EMGavg,MANavg,est):\n",
    "    EMGfit = myfit(w_all[freqs],est[0],est[1],w_all[freqs],0)\n",
    "    MANfit = myfit(w_all[freqs],est[2],est[3],w_all[freqs],0)\n",
    "    cost = np.abs(EMGavg - EMGfit)**2 + np.abs(MANavg - MANfit)**2\n",
    "    return np.sum(cost)\n",
    "    \n",
    "def DEG2(EMGavg,MANavg,est):\n",
    "    EMGfit = myfit(w_all[freqs],est[0],est[1],w_all[freqs],0)\n",
    "    MANfit = myfit(w_all[freqs],est[0],est[2],w_all[freqs],0)\n",
    "    cost = np.abs(EMGavg - EMGfit)**2 + np.abs(MANavg - MANfit)**2\n",
    "    return np.sum(cost)\n",
    "    \n",
    "def DEG3(EMGavg,MANavg,est):\n",
    "    EMGfit = myfit(w_all[freqs],est[0],est[1],w_all[freqs],0)\n",
    "    MANfit = myfit(w_all[freqs],est[0],est[1],w_all[freqs],0)\n",
    "    cost = np.abs(EMGavg - EMGfit)**2 + np.abs(MANavg - MANfit)**2\n",
    "    return np.sum(cost)\n",
    "\n",
    "\n",
    "\n",
    "# finally, pure gain\n",
    "# [k_v,t_v,k,t_d]\n",
    "# t_v, t_d = 0\n",
    "def GAIN(EMGavg,MANavg,est):\n",
    "    EMGfit = myfit(w_all[freqs],est[0],0,est[0],0)\n",
    "    MANfit = myfit(w_all[freqs],est[0],0,est[0],0)\n",
    "    cost = np.abs(EMGavg - EMGfit)**2 + np.abs(MANavg - MANfit)**2\n",
    "    return np.sum(cost)"
   ]
  },
  {
   "cell_type": "code",
   "execution_count": 21,
   "metadata": {},
   "outputs": [],
   "source": [
    "# estimate the best fit\n",
    "def chain(leave_out,reps,EMG_data,man_data,num_vars):\n",
    "    holder = {}\n",
    "    EMG = {}\n",
    "    man = {}\n",
    "    Keys = []\n",
    "    \n",
    "    # collect the info we want (all except excluded participant)\n",
    "    for key in keys:\n",
    "        if (leave_out != key):\n",
    "            EMG[key] = EMG_data[key]\n",
    "            man[key] = man_data[key]\n",
    "            Keys.append(key)\n",
    "    \n",
    "    # take the mean\n",
    "    mEMG = np.zeros(8,dtype='complex')\n",
    "    mman = np.zeros(8,dtype='complex')\n",
    "    ang_EMG = np.zeros(8,dtype='complex')\n",
    "    ang_man = np.zeros(8,dtype='complex')\n",
    "    for j in range(8):\n",
    "        mEMG[j] = np.mean([abs(EMG[Keys[i]][j]) for i in range(10)])\n",
    "        mman[j] = np.mean([abs(man[Keys[i]][j]) for i in range(10)])\n",
    "        fj = np.array([[EMG[Keys[i]][j] for i in range(10)]])\n",
    "        ang_EMG[j] = np.mean(angle_correction(fj))\n",
    "        fj = np.array([[man[Keys[i]][j] for i in range(10)]])\n",
    "        ang_man[j] = np.mean(angle_correction(fj))\n",
    "    \n",
    "    mEMG = mEMG*np.exp(1.j*ang_EMG)\n",
    "    mman = mman*np.exp(1.j*ang_man)\n",
    "        \n",
    "    # run minimize the desired number of times\n",
    "    # save [FDerror, calculated values] as [key, value]\n",
    "    for idx in range(reps):\n",
    "        # [k_v,t_v,k,t_d]\n",
    "        if num_vars == 8:\n",
    "            estimate = np.random.rand(1,8)\n",
    "            xopt = minimize(lambda x: COST8(mEMG,mman,x),estimate,bounds = ((0, None), (0, None), (0, None), (0, None), (0, None), (0, None), (0, None), (0, None)))\n",
    "        if num_vars == 7:\n",
    "            estimate = np.random.rand(1,7)\n",
    "            xopt = minimize(lambda x: COST7(mEMG,mman,x),estimate,bounds = ((0, None), (0, None), (0, None), (0, None), (0, None), (0, None), (0, None)))\n",
    "        if num_vars == 6:\n",
    "            estimate = np.random.rand(1,6)\n",
    "            xopt = minimize(lambda x: COST6(mEMG,mman,x),estimate,bounds = ((0, None), (0, None), (0, None), (0, None), (0, None), (0, None)))\n",
    "        if num_vars == 5:\n",
    "            estimate = np.random.rand(1,5)\n",
    "            xopt = minimize(lambda x: COST5(mEMG,mman,x),estimate,bounds = ((0, None), (0, None), (0, None), (0, None), (0, None)))\n",
    "        if num_vars == 5.5:\n",
    "            estimate = np.random.rand(1,5)\n",
    "            xopt = minimize(lambda x: COST55(mEMG,mman,x),estimate,bounds = ((0, None), (0, None), (0, None), (0, None), (0, None)))\n",
    "        if num_vars == 0:\n",
    "            estimate = np.random.rand(1,4)\n",
    "            xopt = minimize(lambda x: COSTh(mEMG,mman,x),estimate,bounds = ((0, None), (0, None), (0, None), (0, None)))\n",
    "        if num_vars == 4:\n",
    "            estimate = np.random.rand(1,4)\n",
    "            xopt = minimize(lambda x: COST4(mEMG,mman,x),estimate,bounds = ((0, None), (0, None), (0, None), (0, None)))\n",
    "        if num_vars == 4.5:\n",
    "            estimate = np.random.rand(1,4)\n",
    "            xopt = minimize(lambda x: COST45(mEMG,mman,x),estimate,bounds = ((0, None), (0, None), (0, None), (0, None)))\n",
    "        if num_vars == 3:\n",
    "            estimate = np.random.rand(1,3)\n",
    "            xopt = minimize(lambda x: COST3(mEMG,mman,x),estimate,bounds = ((0, None), (0, None), (0, None)))\n",
    "        if num_vars == 20:\n",
    "            estimate = np.random.rand(1,4)\n",
    "            xopt = minimize(lambda x: DEG1(mEMG,mman,x),estimate,bounds = ((0, None), (0, None), (0, None), (0, None)))\n",
    "        if num_vars == 21:\n",
    "            estimate = np.random.rand(1,3)\n",
    "            xopt = minimize(lambda x: DEG2(mEMG,mman,x),estimate,bounds = ((0, None), (0, None), (0, None)))\n",
    "        if num_vars == 22:\n",
    "            estimate = np.random.rand(1,2)\n",
    "            xopt = minimize(lambda x: DEG3(mEMG,mman,x),estimate,bounds = ((0, None), (0, None)))\n",
    "        if num_vars == 30:\n",
    "            estimate = np.random.rand(1,1)\n",
    "            xopt = minimize(lambda x: GAIN(mEMG,mman,x),estimate,bounds = ((0, None)))\n",
    "        \n",
    "        \n",
    "        holder[xopt.fun] = xopt.x\n",
    "    \n",
    "    # find the min FDerror\n",
    "    best = min(holder.keys())\n",
    "    \n",
    "    # return the corresponding calculated values\n",
    "    return holder[best],best\n",
    "\n",
    "\n",
    "# determine the accuracy of the estimates\n",
    "# note: leave_out has to be array\n",
    "#       best_outputs has to be array\n",
    "def loo(leave_out,best_outputs,num_vars):\n",
    "    \n",
    "    # compute model for left-out data\n",
    "    if (num_vars == 8):\n",
    "        EMG_fit = myfit(w_all,best_outputs[0],best_outputs[1],best_outputs[2],best_outputs[3])\n",
    "        man_fit = myfit(w_all,best_outputs[4],best_outputs[5],best_outputs[6],best_outputs[7])\n",
    "    if (num_vars == 7): \n",
    "        EMG_fit = myfit(w_all,best_outputs[0],best_outputs[1],best_outputs[5],best_outputs[2])\n",
    "        man_fit = myfit(w_all,best_outputs[3],best_outputs[4],best_outputs[5],best_outputs[6])\n",
    "    if (num_vars == 6):\n",
    "        EMG_fit = myfit(w_all,best_outputs[0],best_outputs[1],best_outputs[4],best_outputs[3])\n",
    "        man_fit = myfit(w_all,best_outputs[2],best_outputs[3],best_outputs[4],best_outputs[5])\n",
    "    if (num_vars == 5):\n",
    "        EMG_fit = myfit(w_all,best_outputs[0],best_outputs[1],best_outputs[4],best_outputs[3])\n",
    "        man_fit = myfit(w_all,best_outputs[2],best_outputs[3],best_outputs[4],0)\n",
    "    if (num_vars == 5.5):\n",
    "        EMG_fit = myfit(w_all,best_outputs[0],best_outputs[1],best_outputs[4],best_outputs[1])\n",
    "        man_fit = myfit(w_all,best_outputs[2],best_outputs[3],best_outputs[4],0)\n",
    "    if (num_vars == 4):\n",
    "        EMG_fit = myfit(w_all,best_outputs[0],best_outputs[1],best_outputs[3],best_outputs[2])\n",
    "        man_fit = myfit(w_all,best_outputs[0],best_outputs[3],best_outputs[2],0)\n",
    "    if (num_vars == 4.5):\n",
    "        EMG_fit = myfit(w_all,best_outputs[0],best_outputs[1],best_outputs[3],best_outputs[1])\n",
    "        man_fit = myfit(w_all,best_outputs[0],best_outputs[1],best_outputs[2],0)\n",
    "    if (num_vars == 3):\n",
    "        EMG_fit = myfit(w_all,best_outputs[0],best_outputs[1],best_outputs[2],best_outputs[1])\n",
    "        man_fit = myfit(w_all,best_outputs[0],best_outputs[1],best_outputs[2],0)\n",
    "    if (num_vars == 0):\n",
    "        EMG_fit = myfit(w_all,best_outputs[0],best_outputs[1],best_outputs[2],best_outputs[1])\n",
    "        man_fit = myfit(w_all,best_outputs[0],best_outputs[1],best_outputs[2],best_outputs[3])\n",
    "    if (num_vars == 20):\n",
    "        EMG_fit = myfit(w_all,best_outputs[0],best_outputs[1],w_all,0)\n",
    "        man_fit = myfit(w_all,best_outputs[2],best_outputs[3],w_all,0)\n",
    "    if (num_vars == 21):\n",
    "        EMG_fit = myfit(w_all,best_outputs[0],best_outputs[1],w_all,0)\n",
    "        man_fit = myfit(w_all,best_outputs[0],best_outputs[2],w_all,0)\n",
    "    if (num_vars == 22):\n",
    "        EMG_fit = myfit(w_all,best_outputs[0],best_outputs[1],w_all,0)\n",
    "        man_fit = myfit(w_all,best_outputs[0],best_outputs[1],w_all,0)\n",
    "    if (num_vars == 30):\n",
    "        EMG_fit = myfit(w_all,best_outputs[0],0,leave_out[0],0)\n",
    "        man_fit = myfit(w_all,best_outputs[0],0,leave_out[0],0)\n",
    "            \n",
    "    # calculate the error and return\n",
    "    # actual data, not model\n",
    "    lEMG = leave_out[:8]\n",
    "    lman = leave_out[8:]\n",
    "    \n",
    "    cost = np.linalg.norm(lEMG-EMG_fit[freqs]) + np.linalg.norm(lman-man_fit[freqs])\n",
    "    \n",
    "    return cost"
   ]
  },
  {
   "cell_type": "code",
   "execution_count": 15,
   "metadata": {
    "scrolled": true
   },
   "outputs": [],
   "source": [
    "# a function to run everything above\n",
    "def runAll(EMG_data,manual_data,num_vars,reps):\n",
    "    best_outputs = {}\n",
    "    best_min = []\n",
    "    comp = []\n",
    "    \n",
    "    # calculate best model\n",
    "    for key in EMG_data.keys():\n",
    "        best_outputs[key] = []\n",
    "        output,best = chain(key,reps,EMG_data,manual_data,num_vars)\n",
    "        best_outputs[key] = output\n",
    "        best_min.append(best)\n",
    "        \n",
    "        # loo analysis\n",
    "        left_out = np.append(EMG_data[key],manual_data[key])\n",
    "        rest = best_outputs[key]\n",
    "        cost = loo(left_out,rest,num_vars)\n",
    "        comp.append(cost)\n",
    "        \n",
    "    return np.mean(cost),best_outputs\n",
    "\n",
    "\n",
    "# a function to get the data we want\n",
    "def dataSelect(EMG_data,manual_data):\n",
    "    basket_EMG = {}\n",
    "    basket_man = {}\n",
    "    \n",
    "    \n",
    "    # EMG data\n",
    "    for key in EMG_data.keys():\n",
    "        basket_EMG[key] = np.zeros(8,dtype=complex)\n",
    "        temp1 = np.zeros((15,8),dtype=complex)\n",
    "        flag = 0\n",
    "        for i,trial in EMG_data[key].items():\n",
    "            if (flag < 30):\n",
    "                OUTS = trial['OUTS']\n",
    "                REFS = trial['REFS']\n",
    "                if (flag%2 != 0):\n",
    "                    for j in range(4):\n",
    "                        temp1[flag//2][2*j] = OUTS[even[j]] / REFS[even[j]]\n",
    "                else:\n",
    "                    for j in range(4):\n",
    "                        temp1[flag//2][2*j+1] = OUTS[odd[j]] / REFS[odd[j]]\n",
    "                flag += 1\n",
    "\n",
    "        # take the mean (by magnitude & angle)\n",
    "        temp1 = temp1[11:14,:]\n",
    "        means = np.mean(abs(temp1),axis=0)\n",
    "        angles = np.mean(angle_correction(temp1),axis=0)\n",
    "\n",
    "        # then combine into single value\n",
    "        comb = means*np.exp(1j*angles)\n",
    "\n",
    "        # finally, output as one array\n",
    "        basket_EMG[key] = comb\n",
    "        \n",
    "    # manual data\n",
    "    for key in manual_data.keys():\n",
    "        basket_man[key] = np.zeros(8,dtype=complex)\n",
    "        temp1 = np.zeros((15,8),dtype=complex)\n",
    "        flag = 0\n",
    "        for i,trial in manual_data[key].items():\n",
    "            if (flag < 30):\n",
    "                OUTS = trial['OUTS']\n",
    "                REFS = trial['REFS']\n",
    "                if (flag%2 != 0):\n",
    "                    for j in range(4):\n",
    "                        temp1[flag//2][2*j] = OUTS[even[j]] / REFS[even[j]]\n",
    "                else:\n",
    "                    for j in range(4):\n",
    "                        temp1[flag//2][2*j+1] = OUTS[odd[j]] / REFS[odd[j]]\n",
    "                flag += 1\n",
    "\n",
    "        # take last 3 rows of temp1\n",
    "        temp1 = temp1[11:14,:]\n",
    "        means = np.mean(abs(temp1),axis=0)\n",
    "        angles = np.mean(angle_correction(temp1),axis=0)\n",
    "        \n",
    "        comb = means*np.exp(1j*angles)\n",
    "            \n",
    "        basket_man[key] = comb\n",
    "        \n",
    "    return basket_EMG,basket_man"
   ]
  },
  {
   "cell_type": "code",
   "execution_count": 19,
   "metadata": {},
   "outputs": [],
   "source": [
    "# a function for bootstrapping\n",
    "def bootstrap(best_outputs,num_vars):\n",
    "    \n",
    "    # separate the data\n",
    "    et_d = []\n",
    "    mt_d = []\n",
    "\n",
    "    for k in best_outputs.keys():\n",
    "        if num_vars == 8:\n",
    "            et_d.append(best_outputs[k][3])\n",
    "            mt_d.append(best_outputs[k][7]) \n",
    "        if num_vars == 7:\n",
    "            et_d.append(best_outputs[k][2])\n",
    "            mt_d.append(best_outputs[k][6])\n",
    "        if num_vars == 6:\n",
    "            et_d.append(best_outputs[k][3])\n",
    "            mt_d.append(best_outputs[k][5])\n",
    "        if num_vars == 0:\n",
    "            et_d.append(best_outputs[k][1])\n",
    "            mt_d.append(best_outputs[k][3])\n",
    "        if num_vars == 5.5:\n",
    "            et_d.append(best_outputs[k][1])\n",
    "            mt_d.append([0])\n",
    "        if num_vars == 5:\n",
    "            et_d.append(best_outputs[k][3])\n",
    "            mt_d.append([0])\n",
    "        if num_vars == 4.5:\n",
    "            et_d.append(best_outputs[k][1])\n",
    "            mt_d.append([0])\n",
    "        if num_vars == 4:\n",
    "            et_d.append(best_outputs[k][2])\n",
    "            mt_d.append([0])\n",
    "        if num_vars == 3:\n",
    "            et_d.append(best_outputs[k][1])\n",
    "            mt_d.append([0])\n",
    "\n",
    "           \n",
    "    # then run bootstrap analysis\n",
    "    blank_emg = []\n",
    "    blank_man = []\n",
    "    for n in range(1000):\n",
    "        blank_emg.append(np.mean(random.choices(et_d,k=len(et_d))))\n",
    "        blank_man.append(np.mean(random.choices(mt_d,k=len(mt_d))))\n",
    "        \n",
    "    erange = scipy.stats.norm.interval(alpha=0.95, loc=np.mean(blank_emg), scale=scipy.stats.sem(blank_emg))\n",
    "    mrange = scipy.stats.norm.interval(alpha=0.95, loc=np.mean(blank_man), scale=scipy.stats.sem(blank_man))\n",
    "        \n",
    "\n",
    "    return erange,mrange"
   ]
  },
  {
   "cell_type": "code",
   "execution_count": 41,
   "metadata": {},
   "outputs": [],
   "source": [
    "def other_bootstrap(best_outputs):\n",
    "        \n",
    "    # separate the data\n",
    "    ek_v = []\n",
    "    et_v = []\n",
    "    ek = []\n",
    "    et_d = []\n",
    "    mk_v = []\n",
    "    mt_v = []\n",
    "    mk = []\n",
    "    mt_d = []\n",
    "    \n",
    "    var_list = [ek_v,mk_v,et_v,mt_v,ek,mk,et_d,mt_d]\n",
    "    e_ints = []\n",
    "    m_ints = []\n",
    "    \n",
    "    \n",
    "    # currently formatted for 4 free vars, model F\n",
    "    for k in best_outputs.keys():\n",
    "        ek_v.append(best_outputs[k][0])\n",
    "        et_v.append(best_outputs[k][1])\n",
    "        ek.append(best_outputs[k][2])\n",
    "        et_d.append(best_outputs[k][1])\n",
    "        mk_v.append(best_outputs[k][0])\n",
    "        mt_v.append(best_outputs[k][1])\n",
    "        mk.append(best_outputs[k][2])\n",
    "        mt_d.append(best_outputs[k][3])\n",
    "        \n",
    "    for idx in [0,2,4,6]:\n",
    "                \n",
    "        # bootstrap\n",
    "        blank_emg = []\n",
    "        blank_man = []\n",
    "        for n in range(1000):\n",
    "            blank_emg.append(np.mean(random.choices(var_list[idx],k=len(var_list[idx]))))\n",
    "            blank_man.append(np.mean(random.choices(var_list[idx+1],k=len(var_list[idx+1]))))\n",
    "\n",
    "        erange = scipy.stats.norm.interval(alpha=0.95, loc=np.mean(blank_emg), scale=scipy.stats.sem(blank_emg))\n",
    "        mrange = scipy.stats.norm.interval(alpha=0.95, loc=np.mean(blank_man), scale=scipy.stats.sem(blank_man))\n",
    "        \n",
    "        e_ints.append(erange)\n",
    "        m_ints.append(mrange)\n",
    "        \n",
    "    return e_ints,m_ints"
   ]
  },
  {
   "cell_type": "code",
   "execution_count": 46,
   "metadata": {},
   "outputs": [],
   "source": [
    "os.chdir('C:\\\\Users\\\\bookw\\\\Documents\\\\Github\\\\EMGdelay-analysis')\n",
    "\n",
    "f = open(\"LNP_EMG_data2.pickle\",\"rb\")\n",
    "emg_fo,man_fo,emg_so,man_so = pickle.load(f,encoding='latin1')\n",
    "f.close()\n",
    "\n",
    "keys = ['HCPS_021','HCPS_023','HCPS_024','HCPS_025','HCPS_026','HCPS_027','HCPS_028','HCPS_029','HCPS_030','HCPS_031','HCPS_032']\n",
    "\n",
    "w = np.arange(0,1200)/40\n",
    "freqs = [4,6,10,14,22,26,34,38]\n",
    "even = freqs[::2]\n",
    "odd = freqs[1::2]"
   ]
  },
  {
   "cell_type": "code",
   "execution_count": 12,
   "metadata": {},
   "outputs": [
    {
     "data": {
      "text/plain": [
       "11"
      ]
     },
     "execution_count": 12,
     "metadata": {},
     "output_type": "execute_result"
    }
   ],
   "source": [
    "len(man_so)"
   ]
  },
  {
   "cell_type": "code",
   "execution_count": 53,
   "metadata": {},
   "outputs": [
    {
     "name": "stderr",
     "output_type": "stream",
     "text": [
      "C:\\Users\\bookw\\Anaconda3\\lib\\site-packages\\ipykernel_launcher.py:1: RuntimeWarning: divide by zero encountered in true_divide\n",
      "  \"\"\"Entry point for launching an IPython kernel.\n",
      "C:\\Users\\bookw\\Anaconda3\\lib\\site-packages\\ipykernel_launcher.py:1: RuntimeWarning: invalid value encountered in true_divide\n",
      "  \"\"\"Entry point for launching an IPython kernel.\n",
      "C:\\Users\\bookw\\Anaconda3\\lib\\site-packages\\ipykernel_launcher.py:6: RuntimeWarning: invalid value encountered in multiply\n",
      "  \n",
      "C:\\Users\\bookw\\Anaconda3\\lib\\site-packages\\ipykernel_launcher.py:7: RuntimeWarning: invalid value encountered in multiply\n",
      "  import sys\n",
      "C:\\Users\\bookw\\Anaconda3\\lib\\site-packages\\ipykernel_launcher.py:8: RuntimeWarning: invalid value encountered in true_divide\n",
      "  \n"
     ]
    }
   ],
   "source": [
    "avs = []\n",
    "vals = [3, 4, 4.5, 5, 5.5, 6, 7, 8, 0]\n",
    "bo_fo_all = {}\n",
    "\n",
    "for v in vals:\n",
    "    bo_fo_all[v] = []\n",
    "    m,bo = runAll(emg_fo,man_fo,v,100)\n",
    "    avs.append(m)\n",
    "    bo_fo_all[v] = bo\n",
    "\n",
    "index_min = np.argmin(avs)\n",
    "bo_fo = bo_fo_all[vals[index_min]]"
   ]
  },
  {
   "cell_type": "code",
   "execution_count": 54,
   "metadata": {},
   "outputs": [
    {
     "data": {
      "text/plain": [
       "[3.8361085014832126,\n",
       " 4.348320192760091,\n",
       " 4.376520068869915,\n",
       " 3.837819851413988,\n",
       " 3.788154619869649,\n",
       " 3.1421481587883586,\n",
       " 2.8794655102424076,\n",
       " 2.8959682056301874,\n",
       " 3.493572492374664]"
      ]
     },
     "execution_count": 54,
     "metadata": {},
     "output_type": "execute_result"
    }
   ],
   "source": [
    "avs"
   ]
  },
  {
   "cell_type": "code",
   "execution_count": 52,
   "metadata": {},
   "outputs": [
    {
     "name": "stdout",
     "output_type": "stream",
     "text": [
      "(0.6144761243737826, 0.6146428873538039) (0.5856422257407051, 0.5859354454457936) 7\n"
     ]
    },
    {
     "data": {
      "image/png": "[encoded data removed]",
      "text/plain": [
       "<Figure size 640x480 with 1 Axes>"
      ]
     },
     "metadata": {},
     "output_type": "display_data"
    }
   ],
   "source": [
    "eint_fo,mint_fo = bootstrap(bo_fo,vals[index_min])\n",
    "print(eint_fo,mint_fo,vals[index_min])\n",
    "\n",
    "plt.figure()\n",
    "plt.plot([1, 1], [eint_fo[0],eint_fo[1]], color='k')\n",
    "plt.plot(1, np.mean(eint_fo),'o',color='k')\n",
    "plt.plot([2, 2], [mint_fo[0],mint_fo[1]], color='b')\n",
    "plt.plot(2, np.mean(mint_fo),'o',color='b')\n",
    "plt.xticks([1, 2], ['EMG', 'manual'])\n",
    "plt.show();"
   ]
  },
  {
   "cell_type": "code",
   "execution_count": 42,
   "metadata": {},
   "outputs": [
    {
     "name": "stdout",
     "output_type": "stream",
     "text": [
      "visual gain (0.5407429488695931, 0.5516471286140362) (0.540904387734288, 0.5515273517512674)\n",
      "visual delay (0.5462915221120048, 0.555093819007703) (0.5482779448736202, 0.5572460597207335)\n",
      "feedback gain (3.0144898835885474, 3.3130009430559904) (2.943113672569306, 3.2352779048133224)\n",
      "feedback delay (0.5477862233584064, 0.5563467990264722) (0.572114330593369, 0.5852065890932115)\n"
     ]
    }
   ],
   "source": [
    "e_ints1,m_ints1 = other_bootstrap(bo_fo)\n",
    "\n",
    "print(\"visual gain\",e_ints1[0],m_ints1[0])\n",
    "print(\"visual delay\",e_ints1[1],m_ints1[1])\n",
    "print(\"feedback gain\",e_ints1[2],m_ints1[2])\n",
    "print(\"feedback delay\",e_ints1[3],m_ints1[3])"
   ]
  },
  {
   "cell_type": "code",
   "execution_count": 43,
   "metadata": {},
   "outputs": [
    {
     "name": "stdout",
     "output_type": "stream",
     "text": [
      "0.5461950387418146 0.009225783892579413\n",
      "0.5506926705598539 0.007447427575597223\n",
      "3.163745413322269 0.2525635663329021\n",
      "0.5520665111924393 0.007242912622556179\n"
     ]
    }
   ],
   "source": [
    "# get mean & standard dev for the confidence intervals\n",
    "\n",
    "for i in range(4):\n",
    "    m,std = np.mean(e_ints1[i]),(e_ints1[i][1]-e_ints1[i][0])/3.92*np.sqrt(11)\n",
    "    print(m,std)"
   ]
  },
  {
   "cell_type": "code",
   "execution_count": 44,
   "metadata": {},
   "outputs": [],
   "source": [
    "ps = np.zeros(4)\n",
    "ts = np.zeros(4)\n",
    "for i in range(4):\n",
    "    a,b = scipy.stats.ttest_ind_from_stats(np.mean(e_ints1[i]),(e_ints1[i][1]-e_ints1[i][0])/3.92*np.sqrt(11),11,\n",
    "                                           np.mean(m_ints1[i]),(m_ints1[i][1]-m_ints1[i][0])/3.92*np.sqrt(11),11)\n",
    "    ps[i] = b\n",
    "    ts[i] = a"
   ]
  },
  {
   "cell_type": "code",
   "execution_count": 45,
   "metadata": {},
   "outputs": [
    {
     "data": {
      "text/plain": [
       "array([9.95773322e-01, 5.25922759e-01, 4.92212204e-01, 1.73265464e-06])"
      ]
     },
     "execution_count": 45,
     "metadata": {},
     "output_type": "execute_result"
    }
   ],
   "source": [
    "ps"
   ]
  },
  {
   "cell_type": "code",
   "execution_count": 10,
   "metadata": {},
   "outputs": [
    {
     "name": "stderr",
     "output_type": "stream",
     "text": [
      "C:\\Users\\bookw\\Anaconda3\\lib\\site-packages\\ipykernel_launcher.py:1: RuntimeWarning: divide by zero encountered in true_divide\n",
      "  \"\"\"Entry point for launching an IPython kernel.\n",
      "C:\\Users\\bookw\\Anaconda3\\lib\\site-packages\\ipykernel_launcher.py:1: RuntimeWarning: invalid value encountered in true_divide\n",
      "  \"\"\"Entry point for launching an IPython kernel.\n",
      "C:\\Users\\bookw\\Anaconda3\\lib\\site-packages\\ipykernel_launcher.py:8: RuntimeWarning: invalid value encountered in true_divide\n",
      "  \n",
      "C:\\Users\\bookw\\Anaconda3\\lib\\site-packages\\ipykernel_launcher.py:6: RuntimeWarning: invalid value encountered in multiply\n",
      "  \n",
      "C:\\Users\\bookw\\Anaconda3\\lib\\site-packages\\ipykernel_launcher.py:7: RuntimeWarning: invalid value encountered in multiply\n",
      "  import sys\n"
     ]
    }
   ],
   "source": [
    "avs2 = []\n",
    "bo_so_all = {}\n",
    "\n",
    "for v in vals:\n",
    "    bo_so_all[v] = []\n",
    "    m,bo = runAll(emg_so,man_so,v,1000)\n",
    "    avs2.append(m)\n",
    "    bo_so_all[v] = bo\n",
    "    \n",
    "idx_so = min(range(len(avs2)), key=avs2.__getitem__)\n",
    "bo_so = bo_so_all[idx_so]"
   ]
  },
  {
   "cell_type": "code",
   "execution_count": 16,
   "metadata": {},
   "outputs": [
    {
     "name": "stdout",
     "output_type": "stream",
     "text": [
      "(0.4273045193711543, 0.4374841842127003) (0.5771303653920961, 0.5894248826152919) 4.5\n"
     ]
    },
    {
     "data": {
      "image/png": "[encoded data removed]",
      "text/plain": [
       "<Figure size 432x288 with 1 Axes>"
      ]
     },
     "metadata": {
      "needs_background": "light"
     },
     "output_type": "display_data"
    }
   ],
   "source": [
    "eint_so,mint_so = bootstrap(bo_so)\n",
    "print(eint_so,mint_so,idx_so)\n",
    "\n",
    "\n",
    "plt.figure()\n",
    "plt.plot([1, 1], [eint_so[0],eint_so[1]], color='k')\n",
    "plt.plot(1, np.mean(eint_so),'o',color='k')\n",
    "plt.plot([2, 2], [mint_so[0],mint_so[1]], color='b')\n",
    "plt.plot(2, np.mean(mint_so),'o',color='b')\n",
    "plt.xticks([1, 2], ['EMG', 'manual']);"
   ]
  },
  {
   "cell_type": "code",
   "execution_count": 11,
   "metadata": {},
   "outputs": [
    {
     "name": "stdout",
     "output_type": "stream",
     "text": [
      "3 4.092639696342461\n",
      "4 5.186379007358922\n",
      "4.5 3.6619108579573263\n",
      "5 5.7445510082900135\n",
      "5.5 5.720073143347987\n",
      "6 5.6405507486612105\n",
      "7 5.745511457263536\n",
      "8 4.179757779605764\n",
      "0 6.245599090524609\n"
     ]
    }
   ],
   "source": [
    "e_ints,m_ints = other_bootstrap(bo_so)\n",
    "\n",
    "print(\"visual gain\",e_ints[0],m_ints[0])\n",
    "print(\"visual delay\",e_ints[1],m_ints[1])\n",
    "print(\"gain\",e_ints[2],m_ints[2])\n",
    "print(\"feedback delay\",e_ints[3],m_ints[3])"
   ]
  },
  {
   "cell_type": "code",
   "execution_count": 44,
   "metadata": {},
   "outputs": [
    {
     "data": {
      "text/plain": [
       "21.302144133168976"
      ]
     },
     "execution_count": 44,
     "metadata": {},
     "output_type": "execute_result"
    }
   ],
   "source": [
    "eint_so[1]"
   ]
  },
  {
   "cell_type": "markdown",
   "metadata": {},
   "source": [
    "# graphing"
   ]
  },
  {
   "cell_type": "code",
   "execution_count": 18,
   "metadata": {},
   "outputs": [
    {
     "data": {
      "text/plain": [
       "[<matplotlib.lines.Line2D at 0x227ea2ebe80>]"
      ]
     },
     "execution_count": 18,
     "metadata": {},
     "output_type": "execute_result"
    },
    {
     "data": {
      "image/png": "[encoded data removed]",
      "text/plain": [
       "<Figure size 432x288 with 1 Axes>"
      ]
     },
     "metadata": {
      "needs_background": "light"
     },
     "output_type": "display_data"
    }
   ],
   "source": [
    "plt.figure()\n",
    "plt.plot([1, 1], [eint_fo[0],eint_fo[1]], color='k')\n",
    "plt.plot(1, np.mean(eint_fo),'o',color='k')\n",
    "plt.plot([2, 2], [mint_fo[0],mint_fo[1]], color='b')\n",
    "plt.plot(2, np.mean(mint_fo),'o',color='b')\n",
    "\n",
    "plt.plot([3, 3], [eint_so[0],eint_so[1]], color='k')\n",
    "plt.plot(3, np.mean(eint_so),'o',color='k')\n",
    "plt.plot([4, 4], [mint_so[0],mint_so[1]], color='b')\n",
    "plt.plot(4, np.mean(mint_so),'o',color='b')"
   ]
  },
  {
   "cell_type": "code",
   "execution_count": 5,
   "metadata": {},
   "outputs": [
    {
     "ename": "NameError",
     "evalue": "name 'eint_fo' is not defined",
     "output_type": "error",
     "traceback": [
      "\u001b[1;31m---------------------------------------------------------------------------\u001b[0m",
      "\u001b[1;31mNameError\u001b[0m                                 Traceback (most recent call last)",
      "\u001b[1;32m<ipython-input-5-209896b44ca5>\u001b[0m in \u001b[0;36m<module>\u001b[1;34m\u001b[0m\n\u001b[0;32m      1\u001b[0m \u001b[0mf\u001b[0m\u001b[1;33m,\u001b[0m \u001b[1;33m(\u001b[0m\u001b[0max1\u001b[0m\u001b[1;33m,\u001b[0m \u001b[0max2\u001b[0m\u001b[1;33m)\u001b[0m \u001b[1;33m=\u001b[0m \u001b[0mplt\u001b[0m\u001b[1;33m.\u001b[0m\u001b[0msubplots\u001b[0m\u001b[1;33m(\u001b[0m\u001b[1;36m2\u001b[0m\u001b[1;33m,\u001b[0m \u001b[1;36m1\u001b[0m\u001b[1;33m,\u001b[0m \u001b[0msharex\u001b[0m\u001b[1;33m=\u001b[0m\u001b[1;32mTrue\u001b[0m\u001b[1;33m)\u001b[0m\u001b[1;33m\u001b[0m\u001b[1;33m\u001b[0m\u001b[0m\n\u001b[0;32m      2\u001b[0m \u001b[1;33m\u001b[0m\u001b[0m\n\u001b[1;32m----> 3\u001b[1;33m \u001b[0max1\u001b[0m\u001b[1;33m.\u001b[0m\u001b[0mplot\u001b[0m\u001b[1;33m(\u001b[0m\u001b[1;33m[\u001b[0m\u001b[1;36m1\u001b[0m\u001b[1;33m,\u001b[0m \u001b[1;36m1\u001b[0m\u001b[1;33m]\u001b[0m\u001b[1;33m,\u001b[0m \u001b[1;33m[\u001b[0m\u001b[0meint_fo\u001b[0m\u001b[1;33m[\u001b[0m\u001b[1;36m0\u001b[0m\u001b[1;33m]\u001b[0m\u001b[1;33m,\u001b[0m\u001b[0meint_fo\u001b[0m\u001b[1;33m[\u001b[0m\u001b[1;36m1\u001b[0m\u001b[1;33m]\u001b[0m\u001b[1;33m]\u001b[0m\u001b[1;33m,\u001b[0m \u001b[0mcolor\u001b[0m\u001b[1;33m=\u001b[0m\u001b[1;34m'k'\u001b[0m\u001b[1;33m)\u001b[0m\u001b[1;33m\u001b[0m\u001b[1;33m\u001b[0m\u001b[0m\n\u001b[0m\u001b[0;32m      4\u001b[0m \u001b[0max1\u001b[0m\u001b[1;33m.\u001b[0m\u001b[0mplot\u001b[0m\u001b[1;33m(\u001b[0m\u001b[1;36m1\u001b[0m\u001b[1;33m,\u001b[0m \u001b[0mnp\u001b[0m\u001b[1;33m.\u001b[0m\u001b[0mmean\u001b[0m\u001b[1;33m(\u001b[0m\u001b[0meint_fo\u001b[0m\u001b[1;33m)\u001b[0m\u001b[1;33m,\u001b[0m\u001b[1;34m'o'\u001b[0m\u001b[1;33m,\u001b[0m\u001b[0mcolor\u001b[0m\u001b[1;33m=\u001b[0m\u001b[1;34m'k'\u001b[0m\u001b[1;33m)\u001b[0m\u001b[1;33m\u001b[0m\u001b[1;33m\u001b[0m\u001b[0m\n\u001b[0;32m      5\u001b[0m \u001b[0max1\u001b[0m\u001b[1;33m.\u001b[0m\u001b[0mplot\u001b[0m\u001b[1;33m(\u001b[0m\u001b[1;33m[\u001b[0m\u001b[1;36m1.5\u001b[0m\u001b[1;33m,\u001b[0m \u001b[1;36m1.5\u001b[0m\u001b[1;33m]\u001b[0m\u001b[1;33m,\u001b[0m \u001b[1;33m[\u001b[0m\u001b[0mmint_fo\u001b[0m\u001b[1;33m[\u001b[0m\u001b[1;36m0\u001b[0m\u001b[1;33m]\u001b[0m\u001b[1;33m,\u001b[0m\u001b[0mmint_fo\u001b[0m\u001b[1;33m[\u001b[0m\u001b[1;36m1\u001b[0m\u001b[1;33m]\u001b[0m\u001b[1;33m]\u001b[0m\u001b[1;33m,\u001b[0m \u001b[0mcolor\u001b[0m\u001b[1;33m=\u001b[0m\u001b[1;34m'b'\u001b[0m\u001b[1;33m)\u001b[0m\u001b[1;33m\u001b[0m\u001b[1;33m\u001b[0m\u001b[0m\n",
      "\u001b[1;31mNameError\u001b[0m: name 'eint_fo' is not defined"
     ]
    }
   ],
   "source": [
    "f, (ax1, ax2) = plt.subplots(2, 1, sharex=True)\n",
    "\n",
    "ax1.plot([1, 1], [eint_fo[0],eint_fo[1]], color='k')\n",
    "ax1.plot(1, np.mean(eint_fo),'o',color='k')\n",
    "ax1.plot([1.5, 1.5], [mint_fo[0],mint_fo[1]], color='b')\n",
    "ax1.plot(1.5, np.mean(mint_fo),'o',color='b')\n",
    "ax1.set_xlim(0.5,2)\n",
    "\n",
    "ax2.plot([1, 1], [eint_fo[0],eint_fo[1]], color='k')\n",
    "ax2.plot(1, np.mean(eint_fo),'o',color='k')\n",
    "ax2.plot([1.5, 1.5], [mint_fo[0],mint_fo[1]], color='b')\n",
    "ax2.plot(1.5, np.mean(mint_fo),'o',color='b')\n",
    "ax2.set_xlim(0.5,2)\n",
    "\n",
    "ax1.set_ylim(0.6, 0.62)  # outliers only\n",
    "ax2.set_ylim(0.1, 0.12)\n",
    "\n",
    "ax1.spines['bottom'].set_visible(False)\n",
    "ax2.spines['top'].set_visible(False)\n",
    "ax1.xaxis.tick_top()\n",
    "ax1.tick_params(labeltop=False)  # don't put tick labels at the top\n",
    "ax2.xaxis.tick_bottom()\n",
    "\n",
    "d = .5  # proportion of vertical to horizontal extent of the slanted line\n",
    "kwargs = dict(marker=[(-1, -d), (1, d)], markersize=12,\n",
    "              linestyle=\"none\", color='k', mec='k', mew=1, clip_on=False)\n",
    "ax1.plot([0, 1], [0, 0], transform=ax1.transAxes, **kwargs)\n",
    "ax2.plot([0, 1], [1, 1], transform=ax2.transAxes, **kwargs)\n",
    "\n",
    "ax1.set_title(\"First order\")\n",
    "\n",
    "plt.show();"
   ]
  },
  {
   "cell_type": "code",
   "execution_count": null,
   "metadata": {},
   "outputs": [],
   "source": [
    "f, (ax1, ax2) = plt.subplots(2, 1, sharex=True)\n",
    "\n",
    "ax1.plot([1, 1], [eint_so[0],eint_so[1]], color='k')\n",
    "ax1.plot(1, np.mean(eint_so),'o',color='k')\n",
    "ax1.plot([1.5, 1.5], [mint_so[0],mint_so[1]], color='b')\n",
    "ax1.plot(1.5, np.mean(mint_so),'o',color='b')\n",
    "ax1.set_xlim(0.5,2)\n",
    "\n",
    "ax2.plot([1, 1], [eint_so[0],eint_so[1]], color='k')\n",
    "ax2.plot(1, np.mean(eint_so),'o',color='k')\n",
    "ax2.plot([1.5, 1.5], [mint_so[0],mint_so[1]], color='b')\n",
    "ax2.plot(1.5, np.mean(mint_so),'o',color='b')\n",
    "ax2.set_xlim(0.5,2)\n",
    "\n",
    "ax1.set_ylim(1.2, 1.35)  # outliers only\n",
    "ax2.set_ylim(0.8, 1)\n",
    "\n",
    "ax1.spines['bottom'].set_visible(False)\n",
    "ax2.spines['top'].set_visible(False)\n",
    "ax1.xaxis.tick_top()\n",
    "ax1.tick_params(labeltop=False)  # don't put tick labels at the top\n",
    "ax2.xaxis.tick_bottom()\n",
    "\n",
    "d = .5  # proportion of vertical to horizontal extent of the slanted line\n",
    "kwargs = dict(marker=[(-1, -d), (1, d)], markersize=12,\n",
    "              linestyle=\"none\", color='k', mec='k', mew=1, clip_on=False)\n",
    "ax1.plot([0, 1], [0, 0], transform=ax1.transAxes, **kwargs)\n",
    "ax2.plot([0, 1], [1, 1], transform=ax2.transAxes, **kwargs)\n",
    "\n",
    "ax1.set_title(\"Second order\")\n",
    "\n",
    "plt.show();"
   ]
  },
  {
   "cell_type": "markdown",
   "metadata": {},
   "source": [
    "# Zimmet comparison"
   ]
  },
  {
   "cell_type": "code",
   "execution_count": null,
   "metadata": {},
   "outputs": [],
   "source": [
    "z_ints1 = [[0.37, 0.40], [.181, .211], [2.5, 2.8], [.141, .183]]\n",
    "z_ints2 = [[0.39, 0.42], [.141, .147], [2.5, 2.8], [0, 0]]\n",
    "\n",
    "font = {'weight' : 'bold',\n",
    "        'size'   : 8}\n",
    "\n",
    "matplotlib.rc('font', **font)\n",
    "\n",
    "for idx in [1, 3]:\n",
    "    plt.plot([idx, idx], [z_ints2[idx][0], z_ints2[idx][1]], color='k')\n",
    "    plt.plot(idx, np.mean(z_ints2[idx]), 'o', color='k')\n",
    "    plt.plot([idx, idx], [e_ints1[idx][0], e_ints1[idx][1]], color='b')\n",
    "    plt.plot(idx, np.mean(e_ints1[idx]), 'o', color='b')\n",
    "    \n",
    "for idx in [1, 3]:\n",
    "    plt.plot([idx+3,idx+3], [z_ints2[idx][0], z_ints2[idx][1]], color='k')\n",
    "    plt.plot(idx+3, np.mean(z_ints2[idx]), 'o', color='k')\n",
    "    plt.plot([idx+3, idx+3], [m_ints1[idx][0], m_ints1[idx][1]], color='b')\n",
    "    plt.plot(idx+3, np.mean(m_ints1[idx]), 'o', color='b')  \n",
    "    \n",
    "plt.title(\"first order\")\n",
    "plt.xticks([1, 3, 4, 6], ['EMG visual delay', 'EMG feedback delay','manual visual delay','manual feedback delay'])\n",
    "plt.xticks(rotation = 45)\n",
    "plt.show()"
   ]
  },
  {
   "cell_type": "code",
   "execution_count": null,
   "metadata": {},
   "outputs": [],
   "source": [
    "font = {'weight' : 'bold',\n",
    "        'size'   : 8}\n",
    "\n",
    "matplotlib.rc('font', **font)\n",
    "\n",
    "for idx in [0, 2]:\n",
    "    plt.plot([idx, idx], [z_ints2[idx][0], z_ints2[idx][1]], color='k')\n",
    "    plt.plot(idx, np.mean(z_ints2[idx]), 'o', color='k')\n",
    "    plt.plot([idx, idx], [e_ints1[idx][0], e_ints1[idx][1]], color='b')\n",
    "    plt.plot(idx, np.mean(e_ints1[idx]), 'o', color='b')\n",
    "    \n",
    "for idx in [0, 2]:\n",
    "    plt.plot([idx+3,idx+3], [z_ints2[idx][0], z_ints2[idx][1]], color='k')\n",
    "    plt.plot(idx+3, np.mean(z_ints2[idx]), 'o', color='k')\n",
    "    plt.plot([idx+3, idx+3], [m_ints1[idx][0], m_ints1[idx][1]], color='b')\n",
    "    plt.plot(idx+3, np.mean(m_ints1[idx]), 'o', color='b')  \n",
    "    \n",
    "plt.title(\"first order\")\n",
    "plt.xticks([0, 2, 3, 5], ['EMG visual gain', 'EMG feedback gain','manual visual gain','manual feedback gain'])\n",
    "plt.xticks(rotation = 45)\n",
    "plt.show()"
   ]
  }
 ],
 "metadata": {
  "kernelspec": {
   "display_name": "Python 3",
   "language": "python",
   "name": "python3"
  },
  "language_info": {
   "codemirror_mode": {
    "name": "ipython",
    "version": 3
   },
   "file_extension": ".py",
   "mimetype": "text/x-python",
   "name": "python",
   "nbconvert_exporter": "python",
   "pygments_lexer": "ipython3",
   "version": "3.7.3"
  }
 },
 "nbformat": 4,
 "nbformat_minor": 4
}
